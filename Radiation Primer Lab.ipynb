{
 "cells": [
  {
   "cell_type": "markdown",
   "metadata": {},
   "source": [
    "# Group Member Names\n",
    "(Double-click here and update your group member names below. Remember to keep the `*` symbols for bullet points. Hit  shift+enter when you're done to render the Markdown and make things look pretty again.)\n",
    "* Abra\n",
    "* Tyr\n",
    "* Mirra\n",
    "* Olea\n",
    "* Soren"
   ]
  },
  {
   "cell_type": "code",
   "execution_count": null,
   "metadata": {},
   "outputs": [],
   "source": [
    "'''\n",
    "Your first cell of code. Notice that the pull-down menu says \"Code\"\n",
    "when you double-click on this cell. If you double-click the first cell again,\n",
    "you'll see \"Markdown\".\n",
    "In code, stuff that comes between triplets of apostrophes or after a hashtag symbol\n",
    "is a comment, and is ignored.\n",
    "\n",
    "This cell needs to be run for the rest of this lab to work.\n",
    "Be sure to run this cell by hitting shift+enter like you did above for the Markdown cell,\n",
    "or by clicking the \"Run\" button above.'''\n",
    "\n",
    "# These lines load special libraries that help python do sciency things.\n",
    "# They don't come pre-loaded with \"vanilla\" python because not everyone uses them, they take\n",
    "# up space on your drive, and importing them uses up some RAM.\n",
    "import numpy as np\n",
    "from matplotlib import pyplot as plt\n",
    "from matplotlib import cm\n",
    "from netCDF4 import Dataset\n",
    "\n",
    "# This next line makes it so plots will work in this notebook\n",
    "%matplotlib inline\n",
    "\n",
    "# Here we'll define some constants that the rest of the notebook uses.\n",
    "# (It's nice to declare constants ahead of time. If you just start putting numbers\n",
    "# in places where you want them, it can keep people from understanding your reasoning.)\n",
    "speed_of_light = 3e8 # ms^-1\n",
    "planck_constant = 6.626e-34 # J s\n",
    "ceres_aperture = 18e-3 # 18 mm entrance pupil diameter (Smith et al., 2002)\n",
    "ceres_altitude = 705e3 # 705 km nominal altitude for Aqua and Terra satellites"
   ]
  },
  {
   "cell_type": "markdown",
   "metadata": {},
   "source": [
    "# Problem 1 - Convert frequency to wavelength\n",
    "Petty problem 2.1 wasn't too bad, but we can do better by automating it.\n",
    "\n",
    "## Name some frequencies\n",
    "Run the cell below to create some variables and display them in a table."
   ]
  },
  {
   "cell_type": "code",
   "execution_count": null,
   "metadata": {},
   "outputs": [],
   "source": [
    "band_names = ['WFIU1', 'Ka band police radar', 'red', 'violet', 'UV-c', 'x-ray', 'gamma ray'] \n",
    "band_frequencies = np.array([101.9e6, 35e9, 4.5e14, 7.5e14, 1.5e15, 3e17, 3e19]) # in Hz or s^-1\n",
    "print('-----------------------------------')\n",
    "print(\"{:23}| Frequency\".format('Description'))\n",
    "print('-----------------------------------')\n",
    "for iName, iFreq in zip(band_names,band_frequencies):\n",
    "    iFreqSci=\"{:.1e} Hz\".format(iFreq)\n",
    "    iNameLong =\"{:23}| \".format(iName)\n",
    "    print(iNameLong + iFreqSci)\n",
    "print('-----------------------------------')"
   ]
  },
  {
   "cell_type": "markdown",
   "metadata": {},
   "source": [
    "## Fix the converter\n",
    "The frequency-to-wavelength converter `freq_to_wave` below is broken. Please fix it and run it so we can use it later if we need. Also, carefully fix the table header."
   ]
  },
  {
   "cell_type": "code",
   "execution_count": null,
   "metadata": {},
   "outputs": [],
   "source": [
    "# Here's the function that should take frequency and phase speed\n",
    "# and spit out wavelength.\n",
    "def freq_to_wave(input_frequency, phase_speed):\n",
    "    output_wavelength = np.arange(len(input_frequency))+1 # replace the right-hand-side with an expression for wavelength\n",
    "    return(output_wavelength)\n",
    "\n",
    "# Here we run that function on all of the frequencies we defined in the previous cell.\n",
    "band_wavelengths = freq_to_wave(band_frequencies, speed_of_light)\n",
    "\n",
    "# Below we print a table of the frequencies in scientific notation.\n",
    "# Carefully change the heading over the 2nd column.\n",
    "print('-----------------------------------')\n",
    "print(\"{:23}| CHANGE ME\".format('Description'))\n",
    "print('-----------------------------------')\n",
    "for iName, iWave in zip(band_names,band_wavelengths):\n",
    "    iWaveSci=\"{:.1e} m\".format(iWave)\n",
    "    iNameLong =\"{:23}| \".format(iName)\n",
    "    print(iNameLong + iWaveSci)\n",
    "print('-----------------------------------')"
   ]
  },
  {
   "cell_type": "markdown",
   "metadata": {},
   "source": [
    "## Plot your results\n",
    "The cell below makes a scatter plot of wavelength versus frequency. Once you have fixed the frequency-to-wavelength converter above and calculated the correct wavelengths, run this plotter again.\n",
    "\n",
    "Also, make the change suggested below so that you get a plot that's more useful for dealing with quantities orders of magnitude apart."
   ]
  },
  {
   "cell_type": "code",
   "execution_count": null,
   "metadata": {},
   "outputs": [],
   "source": [
    "plt.plot(band_frequencies, band_wavelengths, 'o')\n",
    "for iName, iFreq, iWave in zip(band_names, band_frequencies, band_wavelengths):\n",
    "    plt.text(iFreq, iWave, \"  {}\".format(iName))\n",
    "plt.title(\"CHANGE ME\")\n",
    "plt.xlabel(\"Frequency (Hz)\")\n",
    "plt.ylabel(\"Wavelength (m)\")\n",
    "\n",
    "# Uncomment the lines below to change this to a log-log plot\n",
    "#plt.yscale(\"log\") \n",
    "#plt.xscale(\"log\")"
   ]
  },
  {
   "cell_type": "markdown",
   "metadata": {},
   "source": [
    "## Just Checking\n",
    "You can check your answers against this image below.\n",
    "![](http://www.sengpielaudio.com/SpectrumOfElectromagneticRadiation.gif)\n",
    "_(c) Philip Ronan / Wikimedia Commons / CC-BY-SA-3.0_"
   ]
  },
  {
   "cell_type": "markdown",
   "metadata": {},
   "source": [
    "# Problem 2 - Convert wavelength to frequency\n",
    "## A little background\n",
    "Light interacts with objects differently, depending on their size relative to the wavelength of the light. If an object is _much_ larger than the wavelength, geometric objects come into play—the kind of behavior we are familiar with in our macroscale world lit by visible light. If an object is _much_ smaller than the wavelength, it does what we call Rayleigh (pronounced ray-lee) scattering. If an object is similar in size to the wavelength, it does what we call mie (pronounced \"me\") scattering. The figure below has some nice examples. In it, $x$ is the ratio of object size to wavelength.\n",
    "\n",
    "![Optical Regimes](http://2016.igem.org/wiki/images/4/46/T--TU_Delft--Scattering_regimes.png)\n",
    "\n",
    "Using the cell below, print the frequency of light for which each of the object is clearly within its mie scattering regime. _Hint: You don't need the figure above. You just need to calculate the frequency of light corresponding to a wavelength as big as the object._\n",
    "\n",
    "Run the cell below to define some length scales (in powers of ten)."
   ]
  },
  {
   "cell_type": "code",
   "execution_count": null,
   "metadata": {},
   "outputs": [],
   "source": [
    "obj_names = ['Aerosol Particle', 'Cloud Droplet', 'Rain Drop', 'Military Drone']\n",
    "obj_magnitudes = np.array([-7, -5, -3, 1])\n",
    "print('-----------------------------')\n",
    "print(\"{:17}| Magnitude\".format('Object'))\n",
    "print('-----------------------------')\n",
    "for i_name, i_mag in zip(obj_names, obj_magnitudes):\n",
    "    i_mag_sci=\"10^({:}) m\".format(i_mag)\n",
    "    i_name_long =\"{:17}| \".format(i_name)\n",
    "    print(i_name_long + i_mag_sci)\n",
    "print('-----------------------------')"
   ]
  },
  {
   "cell_type": "markdown",
   "metadata": {},
   "source": [
    " We'll come back to scattering again soon. For now, just know that scattering regimes are important, and for a given kind of object (and object size), the choice of wavelength for a transmitter or sensor is important."
   ]
  },
  {
   "cell_type": "markdown",
   "metadata": {},
   "source": [
    "## Time to fix a function again\n",
    "Oh no! The wave-to-frequency converter `wave_to_freq` below is broken! (How does this keep happening!?) Please fix it, fix the table header, and run the cell to display a table of frequencies corresponding to a wavelength as wide as the object."
   ]
  },
  {
   "cell_type": "code",
   "execution_count": null,
   "metadata": {},
   "outputs": [],
   "source": [
    "def wave_to_freq(input_wavelength):\n",
    "    output_frequency = np.ones(len(input_wavelength)) # replace the right-hand-side with an expression for frequency\n",
    "    return(output_frequency)\n",
    "\n",
    "obj_frequencies = wave_to_freq(10^obj_magnitudes)\n",
    "print('--------------------------------')\n",
    "print(\"{:17}| CHANGE ME\".format('Object'))\n",
    "print('--------------------------------')\n",
    "for iName, iFreq in zip(obj_names,obj_frequencies):\n",
    "    iFreqSci=\"{:.1e} Hz\".format(iFreq)\n",
    "    iNameLong =\"{:17}| \".format(iName)\n",
    "    print(iNameLong + iFreqSci)\n",
    "print('--------------------------------')"
   ]
  },
  {
   "cell_type": "markdown",
   "metadata": {},
   "source": [
    "# Problem 3 - Calculating doppler shift"
   ]
  },
  {
   "cell_type": "markdown",
   "metadata": {},
   "source": [
    "## Doppler shifts and radar\n",
    "Radars use doppler shifting to calculate how quickly rain droplets are moving radially relative to the radar station. Petty #2.2 - the doppler shift for a stationary transmitter and a moving observer - gets you halfway there (from the radar to the raindrop). The other half of the problem (the return trip to the radar) is the doppler shift for a moving transmitter and a stationary observer. The expression is slightly different:\n",
    "$$f_o=\\frac{f_t}{\\left ( 1+\\frac{\\nu}{c} \\right)}$$\n",
    "\n",
    "## An James Webb Space Telescope example\n",
    "The James Webb Space Telescope operates in the infrared to capture details from the farthest reachest of observable space. Since the universe is expanding, everything is moving apart. Stars farther away are moving faster. The resulting doppler shift makes stars appear redder, and is often called \"red shift.\" Hubble used the red shift of stars to figure out how quickly the universe is expanding, and from there figured out how old the universe is. (No wonder there's a telescope named after him.)\n",
    "\n",
    "The thing is, objects _very_ far away are moving _very_ quickly — at relativistic speeds compared to us. That's fast enough to red-shift their light right out of the visible and into the infrared. (The highest frequency waves, x-rays and gamma rays, are attenuated as they cross the universe; similar attenuation of relatively short waves occurs in a bunch of settings, as you'll see elsewhere in this course.)\n",
    "\n",
    "By using infrared light, the James Webb Space Telescope will be able to see light that was given off by stars right after the universe was born. This light has been traveling across the universe for billions of years, and will teach us about the earliest moments of the universe. (And there's lots of amazing questions to be answered with infrared light from objects more nearby, like, say, exoplanets. Sometimes it's just great having a giant telescope out in our solar system.)\n",
    "\n",
    "In the example below, we'll define some approximate wavelengths of near-infrared light, visible light, and ultraviolet. Then we'll put our doppler-shift expressions into code so we can see how different colors are red-shifted at different speeds."
   ]
  },
  {
   "cell_type": "code",
   "execution_count": null,
   "metadata": {},
   "outputs": [],
   "source": [
    "color_names = ['near-infrared', 'red', 'orange', 'yellow', 'green', 'blue', 'indigo', 'violet', 'ultraviolet']\n",
    "color_plotnames = color_names.copy()\n",
    "color_plotnames[0] = 'black'\n",
    "color_plotnames[-1] = 'gray'\n",
    "color_wavelengths = np.array([1000, 710, 600, 550, 510, 450, 410, 390, 80])*1e-9\n",
    "color_frequencies = wave_to_freq(color_wavelengths)\n",
    "star_speeds = np.array([0.1, 1, 2, 2.5, 2.75, 2.875, 2.9, 2.99, 2.997])*1e8"
   ]
  },
  {
   "cell_type": "markdown",
   "metadata": {},
   "source": [
    "### Moving transmitter, stationary observer\n",
    "Let's treat the light from distant stars as being emitted by a moving transmitter, and make a contour plot of the color of observed light versus the transmitted frequency and transmitter velocity.\n",
    "\n",
    "Oh, and the function below is broken. Again. (_Seriously, Dr. Staten!?_)"
   ]
  },
  {
   "cell_type": "code",
   "execution_count": null,
   "metadata": {},
   "outputs": [],
   "source": [
    "def doppler_moving_trns(transmitted_frequency, transmitter_speed):\n",
    "    observed_frequency = transmitted_frequency*np.ones_like(transmitter_speed) # FIXME\n",
    "    return(observed_frequency)\n",
    "\n",
    "observed_frequencies1 = doppler_moving_trns(color_frequencies[np.newaxis,:], star_speeds[:, np.newaxis])\n",
    "plt.contourf(color_frequencies, star_speeds, observed_frequencies1, levels=color_frequencies, colors=color_plotnames, extend='both')\n",
    "plt.xscale(\"log\")\n",
    "plt.title(\"Observed colors, stars moving\")\n",
    "plt.xlabel(\"Frequency (Hz)\")\n",
    "plt.ylabel(\"Transmitter speed ($10^8$ms$^{-1}$)\")"
   ]
  },
  {
   "cell_type": "markdown",
   "metadata": {},
   "source": [
    "## Written Response\n",
    "Based on the figure above, how fast does the transmitting star need to be moving away from the earth in order for all visible light to be shifted to infrared? Does this make sense? Why or why not? Enter your answer in the cell below (as Markdown)."
   ]
  },
  {
   "cell_type": "markdown",
   "metadata": {},
   "source": [
    "`Double-click this cell to use for your response`"
   ]
  },
  {
   "cell_type": "markdown",
   "metadata": {},
   "source": [
    "## Moving observer, stationary transmitter\n",
    "Since motion in space is relative, anyway, can we just treat the observer as moving instead, and use the equation above? Let's use the moving observer formula from Petty #2.2 and see what happens."
   ]
  },
  {
   "cell_type": "code",
   "execution_count": null,
   "metadata": {},
   "outputs": [],
   "source": [
    "def doppler_moving_rcvr(transmitted_frequency, receiver_speed):\n",
    "    observed_frequency = transmitted_frequency * np.ones_like(receiver_speed)\n",
    "    return(observed_frequency)\n",
    "\n",
    "observed_frequencies2 = doppler_moving_rcvr(color_frequencies[np.newaxis,:], star_speeds[:, np.newaxis])\n",
    "plt.contourf(color_frequencies, star_speeds, observed_frequencies2, levels=color_frequencies, colors=color_plotnames, extend='both')\n",
    "plt.xscale(\"log\")\n",
    "plt.title(\"Observed colors, earth\")\n",
    "plt.xlabel(\"Transmitted Frequency (Hz)\")\n",
    "plt.ylabel(\"Speed of the moving Earth ($10^8$ms$^{-1}$)\")"
   ]
  },
  {
   "cell_type": "markdown",
   "metadata": {},
   "source": [
    "## Written Response\n",
    "\n",
    "Based on the figure above, how fast does the earth need to be moving away from the stars in order for all visible light to be shifted to infrared? Does this make sense? Why or why not? Enter your answer in the cell below (as Markdown)."
   ]
  },
  {
   "cell_type": "markdown",
   "metadata": {},
   "source": [
    "`Double-click this cell to use for your response`"
   ]
  },
  {
   "cell_type": "markdown",
   "metadata": {},
   "source": [
    "## Maybe _both_ are moving away from each other at similar speeds?\n",
    "Now that you fixed both of the functions above, I'll assume that, since there's no absolute reference point anyway, we can just treat the transmitter and receiver as moving apart at equal and opposite velocities. Run the cell below to apply the moving transmitter function (at half-speed) to the transmitted frequencies and the moving observer equation (also at half-speed) and see how that does. Nothing for you to change; just run it."
   ]
  },
  {
   "cell_type": "code",
   "execution_count": null,
   "metadata": {},
   "outputs": [],
   "source": [
    "observed_frequencies3 = doppler_moving_rcvr(doppler_moving_trns(color_frequencies[np.newaxis,:], star_speeds[:,np.newaxis]/2.), star_speeds[:, np.newaxis]/2.)\n",
    "plt.contourf(color_frequencies, star_speeds, observed_frequencies3, levels=color_frequencies, colors=color_plotnames, extend='both')\n",
    "plt.xscale(\"log\")\n",
    "plt.title(\"Observed colors, both moving\")\n",
    "plt.xlabel(\"Frequency (Hz)\")\n",
    "plt.ylabel(\"Summed speed of Stars and Earth ($10^8$ms$^{-1}$)\")"
   ]
  },
  {
   "cell_type": "markdown",
   "metadata": {},
   "source": [
    "## Written Response\n",
    "\n",
    "Based on the figure above, how fast would the earth and stars need to be moving away each other in order for all visible light to be shifted to infrared? Does this make sense? Why or why not? Enter your answer in the cell below (as Markdown)."
   ]
  },
  {
   "cell_type": "markdown",
   "metadata": {},
   "source": [
    "`Double-click this cell to use for your response`"
   ]
  },
  {
   "cell_type": "markdown",
   "metadata": {},
   "source": [
    "# Problem 4 - photons from earth...in space\n",
    "Photodetectors (i.e. cameras, spectrometers, etc.) often work by accumulating a charge each time photons hit a chip. (In the case of a digital camera, this is called a charged couple device, or CCD, which contains a whole grid of tiny photo-receptors.) Every so often, this charge is recorded and dumped so the process can start over (and a new image or measurement can be taken).\n",
    "\n",
    "The Clouds and the Earth's Radiant Energy System (CERES) instrument suite has several sensors designed to measure the longwave radiance of the earth from space. Some of these operate over a narrow spectral window. In contrast, the total infrared (\"TOT\") sensor captures everything between 0.3 $\\mu$m to 200 $\\mu$m, which is pretty much all that earth emits. \n",
    "\n",
    "But CERES has a tiny telescope, it's hundreds of miles away, and it only samples one 10-km-wide scene, or \"footprint,\" at a time. How many photons of outgoing longwave radiation (OLR) actually hit the sensor each second?\n",
    "\n",
    "To figure this out, we'll first want to pick a representative wavelength for OLR. Using the spectrum in the image below, choose one such wavelength, and enter it into the `representative_wavelength` variable in the cell below. (Note that the x-axis does not show frequency $c/\\lambda$ but the wavenumber $1/\\lambda$. Engineers and scientists like the wavenumber because it comes in numbers that are easy to put our heads around.)\n",
    "![Earth's blackbody spectrum](https://www.researchgate.net/profile/KW_Jucks/publication/11002997/figure/fig1/AS:601756643885074@1520481372523/IR-portion-of-the-Earth-model-spectrum-showing-the-blackbody-spectrum-of-the-Earths.png)"
   ]
  },
  {
   "cell_type": "code",
   "execution_count": null,
   "metadata": {},
   "outputs": [],
   "source": [
    "indata = Dataset('Aqua_CERES_47min_subsampled_from_2021-11-02.nc')\n",
    "ceres_lon = indata.variables['lon'][:]\n",
    "ceres_lat = indata.variables['lat'][:]\n",
    "ceres_irr = indata.variables['CERES_LW_TOA_flux___upwards'][:]\n",
    "ceres_rad = indata.variables['CERES_LW_radiance___upwards'][:]\n",
    "\n",
    "representative_wavelength = 1 # CHOOSE A GOOD VALUE based on the figure above"
   ]
  },
  {
   "cell_type": "markdown",
   "metadata": {},
   "source": [
    "Now fix the formula below by using what you learned from Petty #2.9. But be careful! (Should you use $\\pi$, $2\\pi$, or $4\\pi$ in your denominator?)"
   ]
  },
  {
   "cell_type": "code",
   "execution_count": null,
   "metadata": {},
   "outputs": [],
   "source": [
    "ceres_footprint = 10e3*np.pi # m^2\n",
    "watts_at_earth = ceres_irr * ceres_footprint # watts per meter squared * square meters = watts\n",
    "watts_at_ceres = watts_at_earth * (np.pi * ceres_aperture) / (2*np.pi*ceres_altitude**2.) # ENTER A GOOD FORMULA HERE\n",
    "photons_at_ceres = watts_at_ceres * representative_wavelength / planck_constant / speed_of_light\n",
    "plt.set_cmap('viridis')\n",
    "median_photons = np.median(photons_at_ceres)\n",
    "pho_colors = photons_at_ceres / np.percentile(photons_at_ceres, 90)\n",
    "plt.scatter(ceres_lon, ceres_lat, c=pho_colors, s=3)\n",
    "plt.title('photons hitting CERES detector (# s$^{-1}$) ')\n",
    "plt.xlabel('$^\\circ$lon')\n",
    "plt.ylabel('$^\\circ$lat')\n",
    "plt.text(30, -76, \"median {:.1e} photons\".format(median_photons))"
   ]
  },
  {
   "cell_type": "markdown",
   "metadata": {},
   "source": [
    "## Written Response\n",
    "\n",
    "How does the number of electrons compare to what you expected? Is this good or bad? What changes could be made to the instrument, do you think, based on the number of photons observed every second?"
   ]
  },
  {
   "cell_type": "markdown",
   "metadata": {},
   "source": [
    "`Double-click this cell to use for your response`"
   ]
  },
  {
   "cell_type": "markdown",
   "metadata": {},
   "source": [
    "# Problem 5 - Radiance vs Irradiance\n",
    "In Petty #2.16, you proved a certain relationship between the radiance (which Petty calls intensity) of light coming from a surface, and the irradiance (which Petty and climate scientists often just call \"flux\") coming out of that surface.\n",
    "\n",
    "Enter the coefficient from this relationship as the `best_guess_factor` below, and run the code to plot the Irradiance, Radiance, and the error of the conversion between the two using the constant factor from your homework."
   ]
  },
  {
   "cell_type": "code",
   "execution_count": null,
   "metadata": {},
   "outputs": [],
   "source": [
    "best_guess_factor = 1 # use the value here from Petty #2.16\n",
    "plt.set_cmap('inferno')\n",
    "irr_colors = ceres_irr/np.percentile(ceres_irr, 90)\n",
    "fig, ax = plt.subplots(1, 3, sharex=True, sharey=True)\n",
    "ax[0].scatter(ceres_lon, ceres_lat, c=irr_colors, s=3)\n",
    "ax[0].set_title('(a) irr (Wm$^{-2}$)')\n",
    "ax[1].set_xlabel('$^\\circ$lon')\n",
    "ax[0].set_ylabel('$^\\circ$lat')\n",
    "\n",
    "rad_colors = ceres_rad/np.percentile(ceres_irr, 90)*best_guess_factor\n",
    "ax[1].scatter(ceres_lon, ceres_lat, c=rad_colors, s=3)\n",
    "ax[1].set_title('(b) rad (Wm$^{-2}$sr$^{-1}$)')\n",
    "\n",
    "plt.set_cmap('RdBu_r')\n",
    "dif_colors = rad_colors - irr_colors\n",
    "ax[2].scatter(ceres_lon, ceres_lat, c=dif_colors, s=3)\n",
    "ax[2].set_title('(c) error?')\n",
    "ax[1].set_xlabel('$^\\circ$lon')\n",
    "ax[0].set_ylabel('$^\\circ$lat')"
   ]
  },
  {
   "cell_type": "markdown",
   "metadata": {},
   "source": [
    "## Written Response\n",
    "How does the accuracy of the irradiance-to-flux conversion from Petty #2.16 compare to what you expected?\n",
    "\n",
    "Looking at the error plot, what do you think is the primary source of error in the textbook's conversion factor? (What's the faulty assumption?)\n",
    "\n",
    "What evidence do you have for your claim? Explain."
   ]
  },
  {
   "cell_type": "markdown",
   "metadata": {},
   "source": [
    "`Double-click this cell to use for your response`"
   ]
  },
  {
   "cell_type": "markdown",
   "metadata": {},
   "source": [
    "# References\n",
    "* G. Louis Smith, Gary L. Peterson, Robert Benjamin Lee III, Bruce R. Barkstrom, \"Optical design of the CERES telescope,\" Proc. SPIE 4483, Earth Observing Systems VI, (18 January 2002); http://doi.org/10.1117/12.453463\n",
    "* David J. Des Marais, Martin O. Harwit, Kenneth W. Jucks, James F. Kasting, Douglas N.C. Lin, Jonathan I. Lunine, Jean Schneider, Sara Seager, Wesley A. Traub, and Neville J. Woolf.Astrobiology.Jun 2002.153-181.http://doi.org/10.1089/15311070260192246\n",
    "* V. I. Kostylev, \"Scattering Fundamentals,\" Bistatic Radar Principles Practice, pp. 193–223, 2007."
   ]
  }
 ],
 "metadata": {
  "kernelspec": {
   "display_name": "Python 3",
   "language": "python",
   "name": "python3"
  },
  "language_info": {
   "codemirror_mode": {
    "name": "ipython",
    "version": 3
   },
   "file_extension": ".py",
   "mimetype": "text/x-python",
   "name": "python",
   "nbconvert_exporter": "python",
   "pygments_lexer": "ipython3",
   "version": "3.7.3"
  }
 },
 "nbformat": 4,
 "nbformat_minor": 2
}
